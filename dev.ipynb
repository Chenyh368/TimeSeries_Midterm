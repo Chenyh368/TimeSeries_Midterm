{
 "cells": [
  {
   "cell_type": "code",
   "execution_count": 25,
   "metadata": {
    "collapsed": true
   },
   "outputs": [],
   "source": [
    "import matplotlib.pyplot as plt\n",
    "import pandas as pd\n",
    "import numpy as np\n",
    "\n",
    "%matplotlib inline"
   ]
  },
  {
   "cell_type": "code",
   "execution_count": 26,
   "outputs": [],
   "source": [
    "df = pd.read_csv('./Beijing.csv')"
   ],
   "metadata": {
    "collapsed": false,
    "pycharm": {
     "name": "#%%\n"
    }
   }
  },
  {
   "cell_type": "code",
   "execution_count": 27,
   "outputs": [
    {
     "data": {
      "text/plain": "       year  month  day  hour  PM2.5   PM10   SO2    NO2    O3   CO  TEMP  \\\n0      2014      1    1     0   31.0  117.0  15.0   73.0   NaN  NaN  -0.4   \n1      2014      1    1     1   58.0  154.0  39.0   84.0   4.0  1.5  -1.1   \n2      2014      1    1     2   68.0  162.0  39.0   85.0   4.0  1.7  -1.4   \n3      2014      1    1     3   83.0  189.0  63.0   83.0   5.0  1.7  -2.4   \n4      2014      1    1     4   75.0  190.0  55.0   83.0   3.0  2.1  -2.5   \n...     ...    ...  ...   ...    ...    ...   ...    ...   ...  ...   ...   \n17515  2015     12   31    19  112.0  112.0  28.0  114.0  23.0  2.3  -1.4   \n17516  2015     12   31    20  122.0  132.0  27.0  118.0  26.0  3.2  -2.5   \n17517  2015     12   31    21  149.0  179.0  30.0  125.0  31.0  4.5  -2.7   \n17518  2015     12   31    22  196.0  230.0  29.0  130.0  33.0  4.6  -3.5   \n17519  2015     12   31    23  221.0  231.0  24.0  125.0  31.0  4.4  -3.4   \n\n         PRES  RAIN  HUMI  DEWP  WD   WS  \n0      1009.1   0.0  34.0 -14.4  NW  1.2  \n1      1008.8   0.0  40.0 -13.0  NW  1.2  \n2      1008.8   0.0  41.0 -13.0  SW  0.7  \n3      1008.2   0.0  46.0 -12.5  SE  0.6  \n4      1008.0   0.0  46.0 -12.6  CV  0.4  \n...       ...   ...   ...   ...  ..  ...  \n17515  1026.3   0.0  58.0  -8.6  SE  1.0  \n17516  1026.2   0.0  64.0  -8.4  SE  1.3  \n17517  1025.8   0.0  67.0  -8.0  NE  0.9  \n17518  1025.5   0.0  73.0  -7.6  CV  0.4  \n17519  1025.2   0.0  73.0  -7.5  NE  1.8  \n\n[17520 rows x 17 columns]",
      "text/html": "<div>\n<style scoped>\n    .dataframe tbody tr th:only-of-type {\n        vertical-align: middle;\n    }\n\n    .dataframe tbody tr th {\n        vertical-align: top;\n    }\n\n    .dataframe thead th {\n        text-align: right;\n    }\n</style>\n<table border=\"1\" class=\"dataframe\">\n  <thead>\n    <tr style=\"text-align: right;\">\n      <th></th>\n      <th>year</th>\n      <th>month</th>\n      <th>day</th>\n      <th>hour</th>\n      <th>PM2.5</th>\n      <th>PM10</th>\n      <th>SO2</th>\n      <th>NO2</th>\n      <th>O3</th>\n      <th>CO</th>\n      <th>TEMP</th>\n      <th>PRES</th>\n      <th>RAIN</th>\n      <th>HUMI</th>\n      <th>DEWP</th>\n      <th>WD</th>\n      <th>WS</th>\n    </tr>\n  </thead>\n  <tbody>\n    <tr>\n      <th>0</th>\n      <td>2014</td>\n      <td>1</td>\n      <td>1</td>\n      <td>0</td>\n      <td>31.0</td>\n      <td>117.0</td>\n      <td>15.0</td>\n      <td>73.0</td>\n      <td>NaN</td>\n      <td>NaN</td>\n      <td>-0.4</td>\n      <td>1009.1</td>\n      <td>0.0</td>\n      <td>34.0</td>\n      <td>-14.4</td>\n      <td>NW</td>\n      <td>1.2</td>\n    </tr>\n    <tr>\n      <th>1</th>\n      <td>2014</td>\n      <td>1</td>\n      <td>1</td>\n      <td>1</td>\n      <td>58.0</td>\n      <td>154.0</td>\n      <td>39.0</td>\n      <td>84.0</td>\n      <td>4.0</td>\n      <td>1.5</td>\n      <td>-1.1</td>\n      <td>1008.8</td>\n      <td>0.0</td>\n      <td>40.0</td>\n      <td>-13.0</td>\n      <td>NW</td>\n      <td>1.2</td>\n    </tr>\n    <tr>\n      <th>2</th>\n      <td>2014</td>\n      <td>1</td>\n      <td>1</td>\n      <td>2</td>\n      <td>68.0</td>\n      <td>162.0</td>\n      <td>39.0</td>\n      <td>85.0</td>\n      <td>4.0</td>\n      <td>1.7</td>\n      <td>-1.4</td>\n      <td>1008.8</td>\n      <td>0.0</td>\n      <td>41.0</td>\n      <td>-13.0</td>\n      <td>SW</td>\n      <td>0.7</td>\n    </tr>\n    <tr>\n      <th>3</th>\n      <td>2014</td>\n      <td>1</td>\n      <td>1</td>\n      <td>3</td>\n      <td>83.0</td>\n      <td>189.0</td>\n      <td>63.0</td>\n      <td>83.0</td>\n      <td>5.0</td>\n      <td>1.7</td>\n      <td>-2.4</td>\n      <td>1008.2</td>\n      <td>0.0</td>\n      <td>46.0</td>\n      <td>-12.5</td>\n      <td>SE</td>\n      <td>0.6</td>\n    </tr>\n    <tr>\n      <th>4</th>\n      <td>2014</td>\n      <td>1</td>\n      <td>1</td>\n      <td>4</td>\n      <td>75.0</td>\n      <td>190.0</td>\n      <td>55.0</td>\n      <td>83.0</td>\n      <td>3.0</td>\n      <td>2.1</td>\n      <td>-2.5</td>\n      <td>1008.0</td>\n      <td>0.0</td>\n      <td>46.0</td>\n      <td>-12.6</td>\n      <td>CV</td>\n      <td>0.4</td>\n    </tr>\n    <tr>\n      <th>...</th>\n      <td>...</td>\n      <td>...</td>\n      <td>...</td>\n      <td>...</td>\n      <td>...</td>\n      <td>...</td>\n      <td>...</td>\n      <td>...</td>\n      <td>...</td>\n      <td>...</td>\n      <td>...</td>\n      <td>...</td>\n      <td>...</td>\n      <td>...</td>\n      <td>...</td>\n      <td>...</td>\n      <td>...</td>\n    </tr>\n    <tr>\n      <th>17515</th>\n      <td>2015</td>\n      <td>12</td>\n      <td>31</td>\n      <td>19</td>\n      <td>112.0</td>\n      <td>112.0</td>\n      <td>28.0</td>\n      <td>114.0</td>\n      <td>23.0</td>\n      <td>2.3</td>\n      <td>-1.4</td>\n      <td>1026.3</td>\n      <td>0.0</td>\n      <td>58.0</td>\n      <td>-8.6</td>\n      <td>SE</td>\n      <td>1.0</td>\n    </tr>\n    <tr>\n      <th>17516</th>\n      <td>2015</td>\n      <td>12</td>\n      <td>31</td>\n      <td>20</td>\n      <td>122.0</td>\n      <td>132.0</td>\n      <td>27.0</td>\n      <td>118.0</td>\n      <td>26.0</td>\n      <td>3.2</td>\n      <td>-2.5</td>\n      <td>1026.2</td>\n      <td>0.0</td>\n      <td>64.0</td>\n      <td>-8.4</td>\n      <td>SE</td>\n      <td>1.3</td>\n    </tr>\n    <tr>\n      <th>17517</th>\n      <td>2015</td>\n      <td>12</td>\n      <td>31</td>\n      <td>21</td>\n      <td>149.0</td>\n      <td>179.0</td>\n      <td>30.0</td>\n      <td>125.0</td>\n      <td>31.0</td>\n      <td>4.5</td>\n      <td>-2.7</td>\n      <td>1025.8</td>\n      <td>0.0</td>\n      <td>67.0</td>\n      <td>-8.0</td>\n      <td>NE</td>\n      <td>0.9</td>\n    </tr>\n    <tr>\n      <th>17518</th>\n      <td>2015</td>\n      <td>12</td>\n      <td>31</td>\n      <td>22</td>\n      <td>196.0</td>\n      <td>230.0</td>\n      <td>29.0</td>\n      <td>130.0</td>\n      <td>33.0</td>\n      <td>4.6</td>\n      <td>-3.5</td>\n      <td>1025.5</td>\n      <td>0.0</td>\n      <td>73.0</td>\n      <td>-7.6</td>\n      <td>CV</td>\n      <td>0.4</td>\n    </tr>\n    <tr>\n      <th>17519</th>\n      <td>2015</td>\n      <td>12</td>\n      <td>31</td>\n      <td>23</td>\n      <td>221.0</td>\n      <td>231.0</td>\n      <td>24.0</td>\n      <td>125.0</td>\n      <td>31.0</td>\n      <td>4.4</td>\n      <td>-3.4</td>\n      <td>1025.2</td>\n      <td>0.0</td>\n      <td>73.0</td>\n      <td>-7.5</td>\n      <td>NE</td>\n      <td>1.8</td>\n    </tr>\n  </tbody>\n</table>\n<p>17520 rows × 17 columns</p>\n</div>"
     },
     "execution_count": 27,
     "metadata": {},
     "output_type": "execute_result"
    }
   ],
   "source": [
    "df"
   ],
   "metadata": {
    "collapsed": false,
    "pycharm": {
     "name": "#%%\n"
    }
   }
  },
  {
   "cell_type": "code",
   "execution_count": 28,
   "outputs": [
    {
     "name": "stdout",
     "output_type": "stream",
     "text": [
      "<class 'pandas.core.frame.DataFrame'>\n",
      "RangeIndex: 17520 entries, 0 to 17519\n",
      "Data columns (total 17 columns):\n",
      " #   Column  Non-Null Count  Dtype  \n",
      "---  ------  --------------  -----  \n",
      " 0   year    17520 non-null  int64  \n",
      " 1   month   17520 non-null  int64  \n",
      " 2   day     17520 non-null  int64  \n",
      " 3   hour    17520 non-null  int64  \n",
      " 4   PM2.5   17077 non-null  float64\n",
      " 5   PM10    17212 non-null  float64\n",
      " 6   SO2     17198 non-null  float64\n",
      " 7   NO2     17064 non-null  float64\n",
      " 8   O3      17193 non-null  float64\n",
      " 9   CO      17122 non-null  float64\n",
      " 10  TEMP    17518 non-null  float64\n",
      " 11  PRES    17518 non-null  float64\n",
      " 12  RAIN    17518 non-null  float64\n",
      " 13  HUMI    17518 non-null  float64\n",
      " 14  DEWP    17518 non-null  float64\n",
      " 15  WD      17518 non-null  object \n",
      " 16  WS      17518 non-null  float64\n",
      "dtypes: float64(12), int64(4), object(1)\n",
      "memory usage: 2.3+ MB\n"
     ]
    }
   ],
   "source": [
    "df.info()"
   ],
   "metadata": {
    "collapsed": false,
    "pycharm": {
     "name": "#%%\n"
    }
   }
  },
  {
   "cell_type": "code",
   "execution_count": 29,
   "outputs": [],
   "source": [
    "import datetime\n",
    "df['time'] = df.apply(lambda x : datetime.datetime(year=x['year'], month=x['month'], day=x['day'], hour=x['hour']), axis=1)\n",
    "df.drop(columns=['year', 'month', 'day', 'hour'], inplace=True)\n",
    "df = df.set_index('time')"
   ],
   "metadata": {
    "collapsed": false,
    "pycharm": {
     "name": "#%%\n"
    }
   }
  },
  {
   "cell_type": "code",
   "execution_count": 30,
   "outputs": [
    {
     "data": {
      "text/plain": "                     PM2.5   PM10   SO2    NO2    O3   CO  TEMP    PRES  RAIN  \\\ntime                                                                            \n2014-01-01 00:00:00   31.0  117.0  15.0   73.0   NaN  NaN  -0.4  1009.1   0.0   \n2014-01-01 01:00:00   58.0  154.0  39.0   84.0   4.0  1.5  -1.1  1008.8   0.0   \n2014-01-01 02:00:00   68.0  162.0  39.0   85.0   4.0  1.7  -1.4  1008.8   0.0   \n2014-01-01 03:00:00   83.0  189.0  63.0   83.0   5.0  1.7  -2.4  1008.2   0.0   \n2014-01-01 04:00:00   75.0  190.0  55.0   83.0   3.0  2.1  -2.5  1008.0   0.0   \n...                    ...    ...   ...    ...   ...  ...   ...     ...   ...   \n2015-12-31 19:00:00  112.0  112.0  28.0  114.0  23.0  2.3  -1.4  1026.3   0.0   \n2015-12-31 20:00:00  122.0  132.0  27.0  118.0  26.0  3.2  -2.5  1026.2   0.0   \n2015-12-31 21:00:00  149.0  179.0  30.0  125.0  31.0  4.5  -2.7  1025.8   0.0   \n2015-12-31 22:00:00  196.0  230.0  29.0  130.0  33.0  4.6  -3.5  1025.5   0.0   \n2015-12-31 23:00:00  221.0  231.0  24.0  125.0  31.0  4.4  -3.4  1025.2   0.0   \n\n                     HUMI  DEWP  WD   WS  \ntime                                      \n2014-01-01 00:00:00  34.0 -14.4  NW  1.2  \n2014-01-01 01:00:00  40.0 -13.0  NW  1.2  \n2014-01-01 02:00:00  41.0 -13.0  SW  0.7  \n2014-01-01 03:00:00  46.0 -12.5  SE  0.6  \n2014-01-01 04:00:00  46.0 -12.6  CV  0.4  \n...                   ...   ...  ..  ...  \n2015-12-31 19:00:00  58.0  -8.6  SE  1.0  \n2015-12-31 20:00:00  64.0  -8.4  SE  1.3  \n2015-12-31 21:00:00  67.0  -8.0  NE  0.9  \n2015-12-31 22:00:00  73.0  -7.6  CV  0.4  \n2015-12-31 23:00:00  73.0  -7.5  NE  1.8  \n\n[17520 rows x 13 columns]",
      "text/html": "<div>\n<style scoped>\n    .dataframe tbody tr th:only-of-type {\n        vertical-align: middle;\n    }\n\n    .dataframe tbody tr th {\n        vertical-align: top;\n    }\n\n    .dataframe thead th {\n        text-align: right;\n    }\n</style>\n<table border=\"1\" class=\"dataframe\">\n  <thead>\n    <tr style=\"text-align: right;\">\n      <th></th>\n      <th>PM2.5</th>\n      <th>PM10</th>\n      <th>SO2</th>\n      <th>NO2</th>\n      <th>O3</th>\n      <th>CO</th>\n      <th>TEMP</th>\n      <th>PRES</th>\n      <th>RAIN</th>\n      <th>HUMI</th>\n      <th>DEWP</th>\n      <th>WD</th>\n      <th>WS</th>\n    </tr>\n    <tr>\n      <th>time</th>\n      <th></th>\n      <th></th>\n      <th></th>\n      <th></th>\n      <th></th>\n      <th></th>\n      <th></th>\n      <th></th>\n      <th></th>\n      <th></th>\n      <th></th>\n      <th></th>\n      <th></th>\n    </tr>\n  </thead>\n  <tbody>\n    <tr>\n      <th>2014-01-01 00:00:00</th>\n      <td>31.0</td>\n      <td>117.0</td>\n      <td>15.0</td>\n      <td>73.0</td>\n      <td>NaN</td>\n      <td>NaN</td>\n      <td>-0.4</td>\n      <td>1009.1</td>\n      <td>0.0</td>\n      <td>34.0</td>\n      <td>-14.4</td>\n      <td>NW</td>\n      <td>1.2</td>\n    </tr>\n    <tr>\n      <th>2014-01-01 01:00:00</th>\n      <td>58.0</td>\n      <td>154.0</td>\n      <td>39.0</td>\n      <td>84.0</td>\n      <td>4.0</td>\n      <td>1.5</td>\n      <td>-1.1</td>\n      <td>1008.8</td>\n      <td>0.0</td>\n      <td>40.0</td>\n      <td>-13.0</td>\n      <td>NW</td>\n      <td>1.2</td>\n    </tr>\n    <tr>\n      <th>2014-01-01 02:00:00</th>\n      <td>68.0</td>\n      <td>162.0</td>\n      <td>39.0</td>\n      <td>85.0</td>\n      <td>4.0</td>\n      <td>1.7</td>\n      <td>-1.4</td>\n      <td>1008.8</td>\n      <td>0.0</td>\n      <td>41.0</td>\n      <td>-13.0</td>\n      <td>SW</td>\n      <td>0.7</td>\n    </tr>\n    <tr>\n      <th>2014-01-01 03:00:00</th>\n      <td>83.0</td>\n      <td>189.0</td>\n      <td>63.0</td>\n      <td>83.0</td>\n      <td>5.0</td>\n      <td>1.7</td>\n      <td>-2.4</td>\n      <td>1008.2</td>\n      <td>0.0</td>\n      <td>46.0</td>\n      <td>-12.5</td>\n      <td>SE</td>\n      <td>0.6</td>\n    </tr>\n    <tr>\n      <th>2014-01-01 04:00:00</th>\n      <td>75.0</td>\n      <td>190.0</td>\n      <td>55.0</td>\n      <td>83.0</td>\n      <td>3.0</td>\n      <td>2.1</td>\n      <td>-2.5</td>\n      <td>1008.0</td>\n      <td>0.0</td>\n      <td>46.0</td>\n      <td>-12.6</td>\n      <td>CV</td>\n      <td>0.4</td>\n    </tr>\n    <tr>\n      <th>...</th>\n      <td>...</td>\n      <td>...</td>\n      <td>...</td>\n      <td>...</td>\n      <td>...</td>\n      <td>...</td>\n      <td>...</td>\n      <td>...</td>\n      <td>...</td>\n      <td>...</td>\n      <td>...</td>\n      <td>...</td>\n      <td>...</td>\n    </tr>\n    <tr>\n      <th>2015-12-31 19:00:00</th>\n      <td>112.0</td>\n      <td>112.0</td>\n      <td>28.0</td>\n      <td>114.0</td>\n      <td>23.0</td>\n      <td>2.3</td>\n      <td>-1.4</td>\n      <td>1026.3</td>\n      <td>0.0</td>\n      <td>58.0</td>\n      <td>-8.6</td>\n      <td>SE</td>\n      <td>1.0</td>\n    </tr>\n    <tr>\n      <th>2015-12-31 20:00:00</th>\n      <td>122.0</td>\n      <td>132.0</td>\n      <td>27.0</td>\n      <td>118.0</td>\n      <td>26.0</td>\n      <td>3.2</td>\n      <td>-2.5</td>\n      <td>1026.2</td>\n      <td>0.0</td>\n      <td>64.0</td>\n      <td>-8.4</td>\n      <td>SE</td>\n      <td>1.3</td>\n    </tr>\n    <tr>\n      <th>2015-12-31 21:00:00</th>\n      <td>149.0</td>\n      <td>179.0</td>\n      <td>30.0</td>\n      <td>125.0</td>\n      <td>31.0</td>\n      <td>4.5</td>\n      <td>-2.7</td>\n      <td>1025.8</td>\n      <td>0.0</td>\n      <td>67.0</td>\n      <td>-8.0</td>\n      <td>NE</td>\n      <td>0.9</td>\n    </tr>\n    <tr>\n      <th>2015-12-31 22:00:00</th>\n      <td>196.0</td>\n      <td>230.0</td>\n      <td>29.0</td>\n      <td>130.0</td>\n      <td>33.0</td>\n      <td>4.6</td>\n      <td>-3.5</td>\n      <td>1025.5</td>\n      <td>0.0</td>\n      <td>73.0</td>\n      <td>-7.6</td>\n      <td>CV</td>\n      <td>0.4</td>\n    </tr>\n    <tr>\n      <th>2015-12-31 23:00:00</th>\n      <td>221.0</td>\n      <td>231.0</td>\n      <td>24.0</td>\n      <td>125.0</td>\n      <td>31.0</td>\n      <td>4.4</td>\n      <td>-3.4</td>\n      <td>1025.2</td>\n      <td>0.0</td>\n      <td>73.0</td>\n      <td>-7.5</td>\n      <td>NE</td>\n      <td>1.8</td>\n    </tr>\n  </tbody>\n</table>\n<p>17520 rows × 13 columns</p>\n</div>"
     },
     "execution_count": 30,
     "metadata": {},
     "output_type": "execute_result"
    }
   ],
   "source": [
    "df"
   ],
   "metadata": {
    "collapsed": false,
    "pycharm": {
     "name": "#%%\n"
    }
   }
  },
  {
   "cell_type": "code",
   "execution_count": 31,
   "outputs": [
    {
     "data": {
      "text/plain": "array(['NW', 'SW', 'SE', 'CV', 'NE'], dtype=object)"
     },
     "execution_count": 31,
     "metadata": {},
     "output_type": "execute_result"
    }
   ],
   "source": [
    "df['WD'] = df['WD'].fillna(method='ffill')\n",
    "df['WD'].unique()"
   ],
   "metadata": {
    "collapsed": false,
    "pycharm": {
     "name": "#%%\n"
    }
   }
  },
  {
   "cell_type": "code",
   "execution_count": 32,
   "outputs": [
    {
     "data": {
      "text/plain": "0"
     },
     "execution_count": 32,
     "metadata": {},
     "output_type": "execute_result"
    }
   ],
   "source": [
    "df['WD'].isna().sum()"
   ],
   "metadata": {
    "collapsed": false,
    "pycharm": {
     "name": "#%%\n"
    }
   }
  },
  {
   "cell_type": "code",
   "execution_count": 33,
   "outputs": [
    {
     "data": {
      "text/plain": "                     PM2.5   PM10   SO2   NO2   O3   CO  TEMP    PRES  RAIN  \\\ntime                                                                          \n2014-01-01 00:00:00   31.0  117.0  15.0  73.0  NaN  NaN  -0.4  1009.1   0.0   \n2014-01-01 01:00:00   58.0  154.0  39.0  84.0  4.0  1.5  -1.1  1008.8   0.0   \n2014-01-01 02:00:00   68.0  162.0  39.0  85.0  4.0  1.7  -1.4  1008.8   0.0   \n2014-01-01 03:00:00   83.0  189.0  63.0  83.0  5.0  1.7  -2.4  1008.2   0.0   \n2014-01-01 04:00:00   75.0  190.0  55.0  83.0  3.0  2.1  -2.5  1008.0   0.0   \n\n                     HUMI  DEWP   WS  CV  NE  NW  SE  SW  \ntime                                                      \n2014-01-01 00:00:00  34.0 -14.4  1.2   0   0   1   0   0  \n2014-01-01 01:00:00  40.0 -13.0  1.2   0   0   1   0   0  \n2014-01-01 02:00:00  41.0 -13.0  0.7   0   0   0   0   1  \n2014-01-01 03:00:00  46.0 -12.5  0.6   0   0   0   1   0  \n2014-01-01 04:00:00  46.0 -12.6  0.4   1   0   0   0   0  ",
      "text/html": "<div>\n<style scoped>\n    .dataframe tbody tr th:only-of-type {\n        vertical-align: middle;\n    }\n\n    .dataframe tbody tr th {\n        vertical-align: top;\n    }\n\n    .dataframe thead th {\n        text-align: right;\n    }\n</style>\n<table border=\"1\" class=\"dataframe\">\n  <thead>\n    <tr style=\"text-align: right;\">\n      <th></th>\n      <th>PM2.5</th>\n      <th>PM10</th>\n      <th>SO2</th>\n      <th>NO2</th>\n      <th>O3</th>\n      <th>CO</th>\n      <th>TEMP</th>\n      <th>PRES</th>\n      <th>RAIN</th>\n      <th>HUMI</th>\n      <th>DEWP</th>\n      <th>WS</th>\n      <th>CV</th>\n      <th>NE</th>\n      <th>NW</th>\n      <th>SE</th>\n      <th>SW</th>\n    </tr>\n    <tr>\n      <th>time</th>\n      <th></th>\n      <th></th>\n      <th></th>\n      <th></th>\n      <th></th>\n      <th></th>\n      <th></th>\n      <th></th>\n      <th></th>\n      <th></th>\n      <th></th>\n      <th></th>\n      <th></th>\n      <th></th>\n      <th></th>\n      <th></th>\n      <th></th>\n    </tr>\n  </thead>\n  <tbody>\n    <tr>\n      <th>2014-01-01 00:00:00</th>\n      <td>31.0</td>\n      <td>117.0</td>\n      <td>15.0</td>\n      <td>73.0</td>\n      <td>NaN</td>\n      <td>NaN</td>\n      <td>-0.4</td>\n      <td>1009.1</td>\n      <td>0.0</td>\n      <td>34.0</td>\n      <td>-14.4</td>\n      <td>1.2</td>\n      <td>0</td>\n      <td>0</td>\n      <td>1</td>\n      <td>0</td>\n      <td>0</td>\n    </tr>\n    <tr>\n      <th>2014-01-01 01:00:00</th>\n      <td>58.0</td>\n      <td>154.0</td>\n      <td>39.0</td>\n      <td>84.0</td>\n      <td>4.0</td>\n      <td>1.5</td>\n      <td>-1.1</td>\n      <td>1008.8</td>\n      <td>0.0</td>\n      <td>40.0</td>\n      <td>-13.0</td>\n      <td>1.2</td>\n      <td>0</td>\n      <td>0</td>\n      <td>1</td>\n      <td>0</td>\n      <td>0</td>\n    </tr>\n    <tr>\n      <th>2014-01-01 02:00:00</th>\n      <td>68.0</td>\n      <td>162.0</td>\n      <td>39.0</td>\n      <td>85.0</td>\n      <td>4.0</td>\n      <td>1.7</td>\n      <td>-1.4</td>\n      <td>1008.8</td>\n      <td>0.0</td>\n      <td>41.0</td>\n      <td>-13.0</td>\n      <td>0.7</td>\n      <td>0</td>\n      <td>0</td>\n      <td>0</td>\n      <td>0</td>\n      <td>1</td>\n    </tr>\n    <tr>\n      <th>2014-01-01 03:00:00</th>\n      <td>83.0</td>\n      <td>189.0</td>\n      <td>63.0</td>\n      <td>83.0</td>\n      <td>5.0</td>\n      <td>1.7</td>\n      <td>-2.4</td>\n      <td>1008.2</td>\n      <td>0.0</td>\n      <td>46.0</td>\n      <td>-12.5</td>\n      <td>0.6</td>\n      <td>0</td>\n      <td>0</td>\n      <td>0</td>\n      <td>1</td>\n      <td>0</td>\n    </tr>\n    <tr>\n      <th>2014-01-01 04:00:00</th>\n      <td>75.0</td>\n      <td>190.0</td>\n      <td>55.0</td>\n      <td>83.0</td>\n      <td>3.0</td>\n      <td>2.1</td>\n      <td>-2.5</td>\n      <td>1008.0</td>\n      <td>0.0</td>\n      <td>46.0</td>\n      <td>-12.6</td>\n      <td>0.4</td>\n      <td>1</td>\n      <td>0</td>\n      <td>0</td>\n      <td>0</td>\n      <td>0</td>\n    </tr>\n  </tbody>\n</table>\n</div>"
     },
     "execution_count": 33,
     "metadata": {},
     "output_type": "execute_result"
    }
   ],
   "source": [
    "df = df.join(pd.get_dummies(df['WD'])) # one-hot encoding\n",
    "del df['WD']\n",
    "df.head()"
   ],
   "metadata": {
    "collapsed": false,
    "pycharm": {
     "name": "#%%\n"
    }
   }
  },
  {
   "cell_type": "code",
   "execution_count": null,
   "outputs": [],
   "source": [],
   "metadata": {
    "collapsed": false,
    "pycharm": {
     "name": "#%%\n"
    }
   }
  }
 ],
 "metadata": {
  "kernelspec": {
   "name": "python3",
   "language": "python",
   "display_name": "Python 3 (ipykernel)"
  },
  "language_info": {
   "codemirror_mode": {
    "name": "ipython",
    "version": 2
   },
   "file_extension": ".py",
   "mimetype": "text/x-python",
   "name": "python",
   "nbconvert_exporter": "python",
   "pygments_lexer": "ipython2",
   "version": "2.7.6"
  }
 },
 "nbformat": 4,
 "nbformat_minor": 0
}